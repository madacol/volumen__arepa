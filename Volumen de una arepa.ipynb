{
 "cells": [
  {
   "cell_type": "code",
   "execution_count": null,
   "metadata": {},
   "outputs": [],
   "source": [
    "#Volumen de una arepa: Vcilindro + Vtoroide"
   ]
  },
  {
   "cell_type": "markdown",
   "metadata": {},
   "source": [
    "## Volumen del cilindro"
   ]
  },
  {
   "cell_type": "code",
   "execution_count": 60,
   "metadata": {},
   "outputs": [
    {
     "name": "stdout",
     "output_type": "stream",
     "text": [
      "Altura de la arepa cm: 1.5\n",
      "Diametro de la arepa en cm: 10\n",
      "El Volumen del cilindro  117.80972450961724 cm3\n"
     ]
    }
   ],
   "source": [
    "from math import pi\n",
    "\n",
    "height = float(input('Altura de la arepa cm: '))\n",
    "diameter = float(input('Diametro de la arepa en cm: '))\n",
    "volume = pi * (diameter/2) * (diameter/2) * height\n",
    "#sur_area = ((2*pi*radian) * height) + ((pi*radian**2)*2)\n",
    "print(\"El Volumen del cilindro \", volume, \"cm3\")\n",
    "#print(\"La superficie del cilindro: \", sur_area)"
   ]
  },
  {
   "cell_type": "markdown",
   "metadata": {},
   "source": [
    "## Volumen toroide"
   ]
  },
  {
   "cell_type": "code",
   "execution_count": 61,
   "metadata": {},
   "outputs": [
    {
     "name": "stdout",
     "output_type": "stream",
     "text": [
      "Volumen de medio toroide:  25.361668888998505\n"
     ]
    }
   ],
   "source": [
    "# Python3 program to calculate volume and surface area of Torus\n",
    "# radius of inner circle = height/2\n",
    "# distance from origin to center of inner circle\n",
    "# radius of black circle in figure\n",
    "\n",
    "Rinput = diameter/2 #radio de la arepa\n",
    "Rcil = Rinput - (height/2)\n",
    "R_semi_torus = Rcil+4*(height/2)/(3*pi)\n",
    "Volume = (float)(2 * pi * pi * R_semi_torus * (height/2) * (height/2));\n",
    "print(\"Volumen de medio toroide: \", Volume/2);\n"
   ]
  },
  {
   "cell_type": "markdown",
   "metadata": {},
   "source": [
    "## Volumen de la arepa en cm3"
   ]
  },
  {
   "cell_type": "code",
   "execution_count": 62,
   "metadata": {},
   "outputs": [
    {
     "name": "stdout",
     "output_type": "stream",
     "text": [
      "El Volumem de la arepa es:  143.17139339861575 cm3\n"
     ]
    }
   ],
   "source": [
    "Volumen_de_la_arepa = volume+Volume/2\n",
    "print(\"El Volumem de la arepa es: \",Volumen_de_la_arepa, \"cm3\")"
   ]
  },
  {
   "cell_type": "code",
   "execution_count": null,
   "metadata": {},
   "outputs": [],
   "source": []
  }
 ],
 "metadata": {
  "kernelspec": {
   "display_name": "Python 3",
   "language": "python",
   "name": "python3"
  },
  "language_info": {
   "codemirror_mode": {
    "name": "ipython",
    "version": 3
   },
   "file_extension": ".py",
   "mimetype": "text/x-python",
   "name": "python",
   "nbconvert_exporter": "python",
   "pygments_lexer": "ipython3",
   "version": "3.8.5"
  }
 },
 "nbformat": 4,
 "nbformat_minor": 4
}
